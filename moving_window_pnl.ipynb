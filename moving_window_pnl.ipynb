{
 "cells": [
  {
   "cell_type": "code",
   "execution_count": 1,
   "id": "ebb9762d",
   "metadata": {},
   "outputs": [],
   "source": [
    "import ccxt\n",
    "import pandas as pd\n",
    "import matplotlib.pyplot as plt\n",
    "import numpy as np\n",
    "import plotly.graph_objects as go\n",
    "from scipy.stats import skew, kurtosis"
   ]
  },
  {
   "cell_type": "code",
   "execution_count": 2,
   "id": "94ff7765",
   "metadata": {},
   "outputs": [],
   "source": [
    "def fetch_bybit_data(symbol='BTC/USDT', timeframe='5m', limit=1000):\n",
    "    exchange = ccxt.bybit({\n",
    "        'options': {'defaultType': 'linear'}  # Required for USDT Perpetuals\n",
    "    })\n",
    "    exchange.load_markets()\n",
    "    \n",
    "    data = exchange.fetch_ohlcv(symbol, timeframe=timeframe, limit=limit, params = {\"paginate\": True})\n",
    "    df = pd.DataFrame(data, columns=['timestamp', 'open', 'high', 'low', 'close', 'volume'])\n",
    "    df['timestamp'] = pd.to_datetime(df['timestamp'], unit='ms')\n",
    "    df.set_index('timestamp', inplace=True)\n",
    "    return df"
   ]
  },
  {
   "cell_type": "code",
   "execution_count": 3,
   "id": "43c44d02",
   "metadata": {},
   "outputs": [],
   "source": [
    "#df = fetch_bybit_data(timeframe='5m', limit=20000)\n",
    "df = pd.read_csv('data/btcusdt_5min.csv')"
   ]
  },
  {
   "cell_type": "code",
   "execution_count": 4,
   "id": "ef59e60e",
   "metadata": {},
   "outputs": [
    {
     "data": {
      "text/html": [
       "<div>\n",
       "<style scoped>\n",
       "    .dataframe tbody tr th:only-of-type {\n",
       "        vertical-align: middle;\n",
       "    }\n",
       "\n",
       "    .dataframe tbody tr th {\n",
       "        vertical-align: top;\n",
       "    }\n",
       "\n",
       "    .dataframe thead th {\n",
       "        text-align: right;\n",
       "    }\n",
       "</style>\n",
       "<table border=\"1\" class=\"dataframe\">\n",
       "  <thead>\n",
       "    <tr style=\"text-align: right;\">\n",
       "      <th></th>\n",
       "      <th>timestamp</th>\n",
       "      <th>open</th>\n",
       "      <th>high</th>\n",
       "      <th>low</th>\n",
       "      <th>close</th>\n",
       "      <th>volume</th>\n",
       "    </tr>\n",
       "  </thead>\n",
       "  <tbody>\n",
       "    <tr>\n",
       "      <th>0</th>\n",
       "      <td>2025-03-31 12:35:00</td>\n",
       "      <td>82199.5</td>\n",
       "      <td>82249.9</td>\n",
       "      <td>82113.6</td>\n",
       "      <td>82186.9</td>\n",
       "      <td>11.545725</td>\n",
       "    </tr>\n",
       "    <tr>\n",
       "      <th>1</th>\n",
       "      <td>2025-03-31 12:40:00</td>\n",
       "      <td>82186.9</td>\n",
       "      <td>82528.0</td>\n",
       "      <td>82146.0</td>\n",
       "      <td>82490.9</td>\n",
       "      <td>54.304581</td>\n",
       "    </tr>\n",
       "    <tr>\n",
       "      <th>2</th>\n",
       "      <td>2025-03-31 12:45:00</td>\n",
       "      <td>82490.9</td>\n",
       "      <td>82490.9</td>\n",
       "      <td>82390.0</td>\n",
       "      <td>82472.6</td>\n",
       "      <td>54.241944</td>\n",
       "    </tr>\n",
       "    <tr>\n",
       "      <th>3</th>\n",
       "      <td>2025-03-31 12:50:00</td>\n",
       "      <td>82472.6</td>\n",
       "      <td>83155.8</td>\n",
       "      <td>82472.6</td>\n",
       "      <td>82864.3</td>\n",
       "      <td>210.304118</td>\n",
       "    </tr>\n",
       "    <tr>\n",
       "      <th>4</th>\n",
       "      <td>2025-03-31 12:55:00</td>\n",
       "      <td>82864.3</td>\n",
       "      <td>82911.7</td>\n",
       "      <td>82760.1</td>\n",
       "      <td>82779.0</td>\n",
       "      <td>59.860116</td>\n",
       "    </tr>\n",
       "  </tbody>\n",
       "</table>\n",
       "</div>"
      ],
      "text/plain": [
       "             timestamp     open     high      low    close      volume\n",
       "0  2025-03-31 12:35:00  82199.5  82249.9  82113.6  82186.9   11.545725\n",
       "1  2025-03-31 12:40:00  82186.9  82528.0  82146.0  82490.9   54.304581\n",
       "2  2025-03-31 12:45:00  82490.9  82490.9  82390.0  82472.6   54.241944\n",
       "3  2025-03-31 12:50:00  82472.6  83155.8  82472.6  82864.3  210.304118\n",
       "4  2025-03-31 12:55:00  82864.3  82911.7  82760.1  82779.0   59.860116"
      ]
     },
     "execution_count": 4,
     "metadata": {},
     "output_type": "execute_result"
    }
   ],
   "source": [
    "df.head()"
   ]
  },
  {
   "cell_type": "code",
   "execution_count": 5,
   "id": "22bcf296",
   "metadata": {},
   "outputs": [],
   "source": [
    "#df.to_csv('data/btcusdt_5min.csv')"
   ]
  },
  {
   "cell_type": "code",
   "execution_count": 6,
   "id": "886b8548",
   "metadata": {},
   "outputs": [],
   "source": [
    "# Prepare a list to store results\n",
    "window = 24\n",
    "threshold = 0.03\n",
    "pnl_results = []\n",
    "\n",
    "# Try all possible 2-hour windows starting from shift 0 to shift 23\n",
    "for offset in range(window):\n",
    "    df['label'] = np.nan\n",
    "\n",
    "    # Step through the data starting from the offset, in non-overlapping chunks\n",
    "    for start in range(offset, len(df) - window, window):\n",
    "        end = start + window\n",
    "        start_price = df['close'].iloc[start]\n",
    "        end_price = df['close'].iloc[end]\n",
    "        slope = (end_price - start_price) / window\n",
    "\n",
    "        if slope > threshold:\n",
    "            df.iloc[start, df.columns.get_loc('label')] = 1\n",
    "        elif slope < -threshold:\n",
    "            df.iloc[start, df.columns.get_loc('label')] = -1\n",
    "\n",
    "    # Filter to only labeled points and de-duplicate consecutive ones\n",
    "    labeled = df[df['label'].notna()].copy()\n",
    "    labeled['prev_label'] = labeled['label'].shift(1)\n",
    "    labeled_filtered = labeled[labeled['label'] != labeled['prev_label']].copy()\n",
    "\n",
    "    # Compute log returns\n",
    "    labeled_filtered['log_return'] = np.log(labeled_filtered.close/labeled_filtered.close.shift(1))\n",
    "\n",
    "    # Compute realized PnL\n",
    "    labeled_filtered['realized_pnl'] = labeled_filtered['label'].shift(1) * labeled_filtered['log_return']\n",
    "\n",
    "    # Sum up total PnL\n",
    "    total_pnl = labeled_filtered['realized_pnl'].sum()\n",
    "    pnl_results.append((offset, total_pnl))\n",
    "\n",
    "# Convert results to DataFrame\n",
    "pnl_df = pd.DataFrame(pnl_results, columns=['offset', 'total_realized_pnl'])"
   ]
  },
  {
   "cell_type": "code",
   "execution_count": 7,
   "id": "49f7b70b",
   "metadata": {},
   "outputs": [
    {
     "data": {
      "text/html": [
       "<div>\n",
       "<style scoped>\n",
       "    .dataframe tbody tr th:only-of-type {\n",
       "        vertical-align: middle;\n",
       "    }\n",
       "\n",
       "    .dataframe tbody tr th {\n",
       "        vertical-align: top;\n",
       "    }\n",
       "\n",
       "    .dataframe thead th {\n",
       "        text-align: right;\n",
       "    }\n",
       "</style>\n",
       "<table border=\"1\" class=\"dataframe\">\n",
       "  <thead>\n",
       "    <tr style=\"text-align: right;\">\n",
       "      <th></th>\n",
       "      <th>timestamp</th>\n",
       "      <th>open</th>\n",
       "      <th>high</th>\n",
       "      <th>low</th>\n",
       "      <th>close</th>\n",
       "      <th>volume</th>\n",
       "      <th>label</th>\n",
       "      <th>prev_label</th>\n",
       "      <th>log_return</th>\n",
       "      <th>realized_pnl</th>\n",
       "    </tr>\n",
       "  </thead>\n",
       "  <tbody>\n",
       "    <tr>\n",
       "      <th>23</th>\n",
       "      <td>2025-03-31 14:30:00</td>\n",
       "      <td>82824.0</td>\n",
       "      <td>83474.1</td>\n",
       "      <td>82824.0</td>\n",
       "      <td>83443.8</td>\n",
       "      <td>63.686099</td>\n",
       "      <td>1.0</td>\n",
       "      <td>NaN</td>\n",
       "      <td>NaN</td>\n",
       "      <td>NaN</td>\n",
       "    </tr>\n",
       "    <tr>\n",
       "      <th>47</th>\n",
       "      <td>2025-03-31 16:30:00</td>\n",
       "      <td>83610.1</td>\n",
       "      <td>83610.1</td>\n",
       "      <td>83408.3</td>\n",
       "      <td>83536.3</td>\n",
       "      <td>17.169070</td>\n",
       "      <td>-1.0</td>\n",
       "      <td>1.0</td>\n",
       "      <td>0.001108</td>\n",
       "      <td>0.001108</td>\n",
       "    </tr>\n",
       "    <tr>\n",
       "      <th>119</th>\n",
       "      <td>2025-03-31 22:30:00</td>\n",
       "      <td>82346.1</td>\n",
       "      <td>82392.3</td>\n",
       "      <td>82314.4</td>\n",
       "      <td>82357.6</td>\n",
       "      <td>9.541882</td>\n",
       "      <td>1.0</td>\n",
       "      <td>-1.0</td>\n",
       "      <td>-0.014211</td>\n",
       "      <td>0.014211</td>\n",
       "    </tr>\n",
       "    <tr>\n",
       "      <th>191</th>\n",
       "      <td>2025-04-01 04:30:00</td>\n",
       "      <td>83057.0</td>\n",
       "      <td>83168.2</td>\n",
       "      <td>83057.0</td>\n",
       "      <td>83168.1</td>\n",
       "      <td>7.254342</td>\n",
       "      <td>-1.0</td>\n",
       "      <td>1.0</td>\n",
       "      <td>0.009793</td>\n",
       "      <td>0.009793</td>\n",
       "    </tr>\n",
       "    <tr>\n",
       "      <th>215</th>\n",
       "      <td>2025-04-01 06:30:00</td>\n",
       "      <td>83129.5</td>\n",
       "      <td>83177.2</td>\n",
       "      <td>83116.2</td>\n",
       "      <td>83162.3</td>\n",
       "      <td>10.778147</td>\n",
       "      <td>1.0</td>\n",
       "      <td>-1.0</td>\n",
       "      <td>-0.000070</td>\n",
       "      <td>0.000070</td>\n",
       "    </tr>\n",
       "    <tr>\n",
       "      <th>...</th>\n",
       "      <td>...</td>\n",
       "      <td>...</td>\n",
       "      <td>...</td>\n",
       "      <td>...</td>\n",
       "      <td>...</td>\n",
       "      <td>...</td>\n",
       "      <td>...</td>\n",
       "      <td>...</td>\n",
       "      <td>...</td>\n",
       "      <td>...</td>\n",
       "    </tr>\n",
       "    <tr>\n",
       "      <th>9791</th>\n",
       "      <td>2025-05-04 13:15:00</td>\n",
       "      <td>95452.3</td>\n",
       "      <td>95452.3</td>\n",
       "      <td>95348.9</td>\n",
       "      <td>95351.2</td>\n",
       "      <td>19.320785</td>\n",
       "      <td>1.0</td>\n",
       "      <td>-1.0</td>\n",
       "      <td>-0.006708</td>\n",
       "      <td>0.006708</td>\n",
       "    </tr>\n",
       "    <tr>\n",
       "      <th>9815</th>\n",
       "      <td>2025-05-04 15:15:00</td>\n",
       "      <td>95653.2</td>\n",
       "      <td>95653.2</td>\n",
       "      <td>95567.9</td>\n",
       "      <td>95620.1</td>\n",
       "      <td>14.018619</td>\n",
       "      <td>-1.0</td>\n",
       "      <td>1.0</td>\n",
       "      <td>0.002816</td>\n",
       "      <td>0.002816</td>\n",
       "    </tr>\n",
       "    <tr>\n",
       "      <th>9839</th>\n",
       "      <td>2025-05-04 17:15:00</td>\n",
       "      <td>95451.0</td>\n",
       "      <td>95451.1</td>\n",
       "      <td>95377.9</td>\n",
       "      <td>95381.0</td>\n",
       "      <td>12.478331</td>\n",
       "      <td>1.0</td>\n",
       "      <td>-1.0</td>\n",
       "      <td>-0.002504</td>\n",
       "      <td>0.002504</td>\n",
       "    </tr>\n",
       "    <tr>\n",
       "      <th>9887</th>\n",
       "      <td>2025-05-04 21:15:00</td>\n",
       "      <td>95623.4</td>\n",
       "      <td>95659.4</td>\n",
       "      <td>95623.3</td>\n",
       "      <td>95659.4</td>\n",
       "      <td>3.991697</td>\n",
       "      <td>-1.0</td>\n",
       "      <td>1.0</td>\n",
       "      <td>0.002915</td>\n",
       "      <td>0.002915</td>\n",
       "    </tr>\n",
       "    <tr>\n",
       "      <th>9959</th>\n",
       "      <td>2025-05-05 03:15:00</td>\n",
       "      <td>94154.0</td>\n",
       "      <td>94217.8</td>\n",
       "      <td>94074.0</td>\n",
       "      <td>94108.7</td>\n",
       "      <td>43.649238</td>\n",
       "      <td>1.0</td>\n",
       "      <td>-1.0</td>\n",
       "      <td>-0.016343</td>\n",
       "      <td>0.016343</td>\n",
       "    </tr>\n",
       "  </tbody>\n",
       "</table>\n",
       "<p>205 rows × 10 columns</p>\n",
       "</div>"
      ],
      "text/plain": [
       "                timestamp     open     high      low    close     volume  \\\n",
       "23    2025-03-31 14:30:00  82824.0  83474.1  82824.0  83443.8  63.686099   \n",
       "47    2025-03-31 16:30:00  83610.1  83610.1  83408.3  83536.3  17.169070   \n",
       "119   2025-03-31 22:30:00  82346.1  82392.3  82314.4  82357.6   9.541882   \n",
       "191   2025-04-01 04:30:00  83057.0  83168.2  83057.0  83168.1   7.254342   \n",
       "215   2025-04-01 06:30:00  83129.5  83177.2  83116.2  83162.3  10.778147   \n",
       "...                   ...      ...      ...      ...      ...        ...   \n",
       "9791  2025-05-04 13:15:00  95452.3  95452.3  95348.9  95351.2  19.320785   \n",
       "9815  2025-05-04 15:15:00  95653.2  95653.2  95567.9  95620.1  14.018619   \n",
       "9839  2025-05-04 17:15:00  95451.0  95451.1  95377.9  95381.0  12.478331   \n",
       "9887  2025-05-04 21:15:00  95623.4  95659.4  95623.3  95659.4   3.991697   \n",
       "9959  2025-05-05 03:15:00  94154.0  94217.8  94074.0  94108.7  43.649238   \n",
       "\n",
       "      label  prev_label  log_return  realized_pnl  \n",
       "23      1.0         NaN         NaN           NaN  \n",
       "47     -1.0         1.0    0.001108      0.001108  \n",
       "119     1.0        -1.0   -0.014211      0.014211  \n",
       "191    -1.0         1.0    0.009793      0.009793  \n",
       "215     1.0        -1.0   -0.000070      0.000070  \n",
       "...     ...         ...         ...           ...  \n",
       "9791    1.0        -1.0   -0.006708      0.006708  \n",
       "9815   -1.0         1.0    0.002816      0.002816  \n",
       "9839    1.0        -1.0   -0.002504      0.002504  \n",
       "9887   -1.0         1.0    0.002915      0.002915  \n",
       "9959    1.0        -1.0   -0.016343      0.016343  \n",
       "\n",
       "[205 rows x 10 columns]"
      ]
     },
     "execution_count": 7,
     "metadata": {},
     "output_type": "execute_result"
    }
   ],
   "source": [
    "labeled_filtered"
   ]
  },
  {
   "cell_type": "code",
   "execution_count": 8,
   "id": "84b4d969",
   "metadata": {},
   "outputs": [
    {
     "data": {
      "text/html": [
       "<div>\n",
       "<style scoped>\n",
       "    .dataframe tbody tr th:only-of-type {\n",
       "        vertical-align: middle;\n",
       "    }\n",
       "\n",
       "    .dataframe tbody tr th {\n",
       "        vertical-align: top;\n",
       "    }\n",
       "\n",
       "    .dataframe thead th {\n",
       "        text-align: right;\n",
       "    }\n",
       "</style>\n",
       "<table border=\"1\" class=\"dataframe\">\n",
       "  <thead>\n",
       "    <tr style=\"text-align: right;\">\n",
       "      <th></th>\n",
       "      <th>offset</th>\n",
       "      <th>total_realized_pnl</th>\n",
       "    </tr>\n",
       "  </thead>\n",
       "  <tbody>\n",
       "    <tr>\n",
       "      <th>0</th>\n",
       "      <td>0</td>\n",
       "      <td>1.957238</td>\n",
       "    </tr>\n",
       "    <tr>\n",
       "      <th>1</th>\n",
       "      <td>1</td>\n",
       "      <td>1.947857</td>\n",
       "    </tr>\n",
       "    <tr>\n",
       "      <th>2</th>\n",
       "      <td>2</td>\n",
       "      <td>1.986208</td>\n",
       "    </tr>\n",
       "    <tr>\n",
       "      <th>3</th>\n",
       "      <td>3</td>\n",
       "      <td>1.972201</td>\n",
       "    </tr>\n",
       "    <tr>\n",
       "      <th>4</th>\n",
       "      <td>4</td>\n",
       "      <td>2.011940</td>\n",
       "    </tr>\n",
       "    <tr>\n",
       "      <th>5</th>\n",
       "      <td>5</td>\n",
       "      <td>1.974548</td>\n",
       "    </tr>\n",
       "    <tr>\n",
       "      <th>6</th>\n",
       "      <td>6</td>\n",
       "      <td>1.993971</td>\n",
       "    </tr>\n",
       "    <tr>\n",
       "      <th>7</th>\n",
       "      <td>7</td>\n",
       "      <td>1.938174</td>\n",
       "    </tr>\n",
       "    <tr>\n",
       "      <th>8</th>\n",
       "      <td>8</td>\n",
       "      <td>2.032803</td>\n",
       "    </tr>\n",
       "    <tr>\n",
       "      <th>9</th>\n",
       "      <td>9</td>\n",
       "      <td>1.999165</td>\n",
       "    </tr>\n",
       "    <tr>\n",
       "      <th>10</th>\n",
       "      <td>10</td>\n",
       "      <td>1.995195</td>\n",
       "    </tr>\n",
       "    <tr>\n",
       "      <th>11</th>\n",
       "      <td>11</td>\n",
       "      <td>1.955632</td>\n",
       "    </tr>\n",
       "    <tr>\n",
       "      <th>12</th>\n",
       "      <td>12</td>\n",
       "      <td>1.936846</td>\n",
       "    </tr>\n",
       "    <tr>\n",
       "      <th>13</th>\n",
       "      <td>13</td>\n",
       "      <td>1.941599</td>\n",
       "    </tr>\n",
       "    <tr>\n",
       "      <th>14</th>\n",
       "      <td>14</td>\n",
       "      <td>1.984144</td>\n",
       "    </tr>\n",
       "    <tr>\n",
       "      <th>15</th>\n",
       "      <td>15</td>\n",
       "      <td>1.923425</td>\n",
       "    </tr>\n",
       "    <tr>\n",
       "      <th>16</th>\n",
       "      <td>16</td>\n",
       "      <td>1.916713</td>\n",
       "    </tr>\n",
       "    <tr>\n",
       "      <th>17</th>\n",
       "      <td>17</td>\n",
       "      <td>1.938242</td>\n",
       "    </tr>\n",
       "    <tr>\n",
       "      <th>18</th>\n",
       "      <td>18</td>\n",
       "      <td>1.964523</td>\n",
       "    </tr>\n",
       "    <tr>\n",
       "      <th>19</th>\n",
       "      <td>19</td>\n",
       "      <td>1.984677</td>\n",
       "    </tr>\n",
       "    <tr>\n",
       "      <th>20</th>\n",
       "      <td>20</td>\n",
       "      <td>1.984336</td>\n",
       "    </tr>\n",
       "    <tr>\n",
       "      <th>21</th>\n",
       "      <td>21</td>\n",
       "      <td>1.912679</td>\n",
       "    </tr>\n",
       "    <tr>\n",
       "      <th>22</th>\n",
       "      <td>22</td>\n",
       "      <td>1.920957</td>\n",
       "    </tr>\n",
       "    <tr>\n",
       "      <th>23</th>\n",
       "      <td>23</td>\n",
       "      <td>1.924492</td>\n",
       "    </tr>\n",
       "  </tbody>\n",
       "</table>\n",
       "</div>"
      ],
      "text/plain": [
       "    offset  total_realized_pnl\n",
       "0        0            1.957238\n",
       "1        1            1.947857\n",
       "2        2            1.986208\n",
       "3        3            1.972201\n",
       "4        4            2.011940\n",
       "5        5            1.974548\n",
       "6        6            1.993971\n",
       "7        7            1.938174\n",
       "8        8            2.032803\n",
       "9        9            1.999165\n",
       "10      10            1.995195\n",
       "11      11            1.955632\n",
       "12      12            1.936846\n",
       "13      13            1.941599\n",
       "14      14            1.984144\n",
       "15      15            1.923425\n",
       "16      16            1.916713\n",
       "17      17            1.938242\n",
       "18      18            1.964523\n",
       "19      19            1.984677\n",
       "20      20            1.984336\n",
       "21      21            1.912679\n",
       "22      22            1.920957\n",
       "23      23            1.924492"
      ]
     },
     "execution_count": 8,
     "metadata": {},
     "output_type": "execute_result"
    }
   ],
   "source": [
    "pnl_df"
   ]
  },
  {
   "cell_type": "code",
   "execution_count": 9,
   "id": "d844ec63",
   "metadata": {},
   "outputs": [
    {
     "data": {
      "image/png": "[encoded data removed]",
      "text/plain": [
       "<Figure size 1000x500 with 1 Axes>"
      ]
     },
     "metadata": {},
     "output_type": "display_data"
    }
   ],
   "source": [
    "plt.figure(figsize=(10, 5))\n",
    "plt.plot(pnl_df['total_realized_pnl'], marker='o')\n",
    "plt.title(\"Total Realized PnL vs. Window Offset\")\n",
    "plt.xlabel(\"Offset (start position of 2-hour window)\")\n",
    "plt.ylabel(\"Total Realized PnL\")\n",
    "plt.grid(True)\n",
    "plt.tight_layout()\n",
    "plt.show()"
   ]
  },
  {
   "cell_type": "code",
   "execution_count": 10,
   "id": "d4529a59",
   "metadata": {},
   "outputs": [],
   "source": [
    "def generate_labeled_trades(df_input, offset=0, window=24, threshold=0.03):\n",
    "    \"\"\"\n",
    "    Generate trade labels and returns based on price trends over fixed windows.\n",
    "\n",
    "    Parameters:\n",
    "        df_input (pd.DataFrame): Must include a 'close' column with a datetime index.\n",
    "        offset (int): Offset for the first labeling window (default 0).\n",
    "        window (int): Number of rows in each analysis window.\n",
    "        threshold (float): Minimum trend slope required to assign a label.\n",
    "\n",
    "    Returns:\n",
    "        pd.DataFrame: Original DataFrame with added columns:\n",
    "                      'label_filtered', 'log_return', 'realized_pnl'.\n",
    "    \"\"\"\n",
    "    df = df_input.copy()\n",
    "    df['label'] = np.nan\n",
    "\n",
    "    # Label trend windows\n",
    "    for start in range(offset, len(df) - window, window):\n",
    "        end = start + window\n",
    "        start_price = df['close'].iloc[start]\n",
    "        end_price = df['close'].iloc[end]\n",
    "        slope = (end_price - start_price) / window\n",
    "\n",
    "        if slope > threshold:\n",
    "            df.iloc[start, df.columns.get_loc('label')] = 1\n",
    "        elif slope < -threshold:\n",
    "            df.iloc[start, df.columns.get_loc('label')] = -1\n",
    "\n",
    "    # Filter changes in direction\n",
    "    labeled = df[df['label'].notna()].copy()\n",
    "    labeled['prev_label'] = labeled['label'].shift(1)\n",
    "    labeled_filtered = labeled[labeled['label'] != labeled['prev_label']]\n",
    "\n",
    "    # Compute returns\n",
    "    labeled_filtered.loc[:, 'log_return'] = np.log(labeled_filtered['close'] / labeled_filtered['close'].shift(1))\n",
    "    labeled_filtered.loc[:, 'realized_pnl'] = labeled_filtered['log_return'] * labeled_filtered['label'].shift(1)\n",
    "    labeled_filtered.loc[:,'label_filtered'] = labeled_filtered['label']\n",
    "\n",
    "    # Update the original DataFrame\n",
    "    df[['label_filtered', 'log_return', 'realized_pnl']] = np.nan  # Ensure columns exist\n",
    "    df.update(labeled_filtered[['label_filtered', 'log_return', 'realized_pnl']])\n",
    "\n",
    "    return df"
   ]
  },
  {
   "cell_type": "code",
   "execution_count": 16,
   "id": "6098b095",
   "metadata": {},
   "outputs": [],
   "source": [
    "df = generate_labeled_trades(df, offset=8, window=24, threshold=0.03)"
   ]
  },
  {
   "cell_type": "code",
   "execution_count": 17,
   "id": "5f8b9aa6",
   "metadata": {},
   "outputs": [
    {
     "data": {
      "text/html": [
       "<div>\n",
       "<style scoped>\n",
       "    .dataframe tbody tr th:only-of-type {\n",
       "        vertical-align: middle;\n",
       "    }\n",
       "\n",
       "    .dataframe tbody tr th {\n",
       "        vertical-align: top;\n",
       "    }\n",
       "\n",
       "    .dataframe thead th {\n",
       "        text-align: right;\n",
       "    }\n",
       "</style>\n",
       "<table border=\"1\" class=\"dataframe\">\n",
       "  <thead>\n",
       "    <tr style=\"text-align: right;\">\n",
       "      <th></th>\n",
       "      <th>timestamp</th>\n",
       "      <th>open</th>\n",
       "      <th>high</th>\n",
       "      <th>low</th>\n",
       "      <th>close</th>\n",
       "      <th>volume</th>\n",
       "      <th>label</th>\n",
       "      <th>label_filtered</th>\n",
       "      <th>log_return</th>\n",
       "      <th>realized_pnl</th>\n",
       "    </tr>\n",
       "  </thead>\n",
       "  <tbody>\n",
       "    <tr>\n",
       "      <th>0</th>\n",
       "      <td>2025-03-31 12:35:00</td>\n",
       "      <td>82199.5</td>\n",
       "      <td>82249.9</td>\n",
       "      <td>82113.6</td>\n",
       "      <td>82186.9</td>\n",
       "      <td>11.545725</td>\n",
       "      <td>NaN</td>\n",
       "      <td>NaN</td>\n",
       "      <td>NaN</td>\n",
       "      <td>NaN</td>\n",
       "    </tr>\n",
       "    <tr>\n",
       "      <th>1</th>\n",
       "      <td>2025-03-31 12:40:00</td>\n",
       "      <td>82186.9</td>\n",
       "      <td>82528.0</td>\n",
       "      <td>82146.0</td>\n",
       "      <td>82490.9</td>\n",
       "      <td>54.304581</td>\n",
       "      <td>NaN</td>\n",
       "      <td>NaN</td>\n",
       "      <td>NaN</td>\n",
       "      <td>NaN</td>\n",
       "    </tr>\n",
       "    <tr>\n",
       "      <th>2</th>\n",
       "      <td>2025-03-31 12:45:00</td>\n",
       "      <td>82490.9</td>\n",
       "      <td>82490.9</td>\n",
       "      <td>82390.0</td>\n",
       "      <td>82472.6</td>\n",
       "      <td>54.241944</td>\n",
       "      <td>NaN</td>\n",
       "      <td>NaN</td>\n",
       "      <td>NaN</td>\n",
       "      <td>NaN</td>\n",
       "    </tr>\n",
       "    <tr>\n",
       "      <th>3</th>\n",
       "      <td>2025-03-31 12:50:00</td>\n",
       "      <td>82472.6</td>\n",
       "      <td>83155.8</td>\n",
       "      <td>82472.6</td>\n",
       "      <td>82864.3</td>\n",
       "      <td>210.304118</td>\n",
       "      <td>NaN</td>\n",
       "      <td>NaN</td>\n",
       "      <td>NaN</td>\n",
       "      <td>NaN</td>\n",
       "    </tr>\n",
       "    <tr>\n",
       "      <th>4</th>\n",
       "      <td>2025-03-31 12:55:00</td>\n",
       "      <td>82864.3</td>\n",
       "      <td>82911.7</td>\n",
       "      <td>82760.1</td>\n",
       "      <td>82779.0</td>\n",
       "      <td>59.860116</td>\n",
       "      <td>NaN</td>\n",
       "      <td>NaN</td>\n",
       "      <td>NaN</td>\n",
       "      <td>NaN</td>\n",
       "    </tr>\n",
       "  </tbody>\n",
       "</table>\n",
       "</div>"
      ],
      "text/plain": [
       "             timestamp     open     high      low    close      volume  label  \\\n",
       "0  2025-03-31 12:35:00  82199.5  82249.9  82113.6  82186.9   11.545725    NaN   \n",
       "1  2025-03-31 12:40:00  82186.9  82528.0  82146.0  82490.9   54.304581    NaN   \n",
       "2  2025-03-31 12:45:00  82490.9  82490.9  82390.0  82472.6   54.241944    NaN   \n",
       "3  2025-03-31 12:50:00  82472.6  83155.8  82472.6  82864.3  210.304118    NaN   \n",
       "4  2025-03-31 12:55:00  82864.3  82911.7  82760.1  82779.0   59.860116    NaN   \n",
       "\n",
       "   label_filtered  log_return  realized_pnl  \n",
       "0             NaN         NaN           NaN  \n",
       "1             NaN         NaN           NaN  \n",
       "2             NaN         NaN           NaN  \n",
       "3             NaN         NaN           NaN  \n",
       "4             NaN         NaN           NaN  "
      ]
     },
     "execution_count": 17,
     "metadata": {},
     "output_type": "execute_result"
    }
   ],
   "source": [
    "df.head()"
   ]
  },
  {
   "cell_type": "code",
   "execution_count": 18,
   "id": "ebfd6237",
   "metadata": {},
   "outputs": [
    {
     "data": {
      "text/plain": [
       "label_filtered\n",
       " 1.0    101\n",
       "-1.0    100\n",
       "Name: count, dtype: int64"
      ]
     },
     "execution_count": 18,
     "metadata": {},
     "output_type": "execute_result"
    }
   ],
   "source": [
    "df.label_filtered.value_counts()"
   ]
  },
  {
   "cell_type": "code",
   "execution_count": 19,
   "id": "443f36cb",
   "metadata": {},
   "outputs": [
    {
     "data": {
      "image/png": "[encoded data removed]",
      "text/plain": [
       "<Figure size 1000x500 with 1 Axes>"
      ]
     },
     "metadata": {},
     "output_type": "display_data"
    }
   ],
   "source": [
    "returns = df['log_return'].dropna()\n",
    "# Plot histogram\n",
    "plt.figure(figsize=(10, 5))\n",
    "plt.hist(returns, bins=30, edgecolor='black', alpha=0.7)\n",
    "plt.title(\"Distribution of Log Returns Between Signals\")\n",
    "plt.xlabel(\"Log Return\")\n",
    "plt.ylabel(\"Frequency\")\n",
    "plt.grid(True)\n",
    "plt.tight_layout()\n",
    "plt.show()"
   ]
  },
  {
   "cell_type": "code",
   "execution_count": 20,
   "id": "74420282",
   "metadata": {},
   "outputs": [
    {
     "data": {
      "application/vnd.plotly.v1+json": {
       "config": {
        "plotlyServerURL": "https://plot.ly"
       },
       "data": [
        {
         "line": {
          "color": "black"
         },
         "mode": "lines",
         "name": "Close Price",
         "type": "scatter",
         "x": {
          "bdata": "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",
          "dtype": "i2"
         },
         "y": {
          "bdata": "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",
          "dtype": "f8"
         }
        },
        {
         "marker": {
          "color": "green",
          "size": 10,
          "symbol": "triangle-up"
         },
         "mode": "markers",
         "name": "Uptrend Entry",
         "type": "scatter",
         "x": {
          "bdata": "CACAACgBAAJIAsACIAOAAygEcAS4BAAFYAXABVAGEAdAB6AH6AcwCHgI2Ag4CZgJEArQCjALeAvAC4AMEA1YDbgNAA5gDsAOCA+AD+APKBDQEDAReBHAEVASgBKwEvgSKBNwE6ATGBRgFMAUUBWYFeAVcBYwF5AX2BcIGFAYWBnQGQAaMBrAGjgbaBvIG1gciBxIHZAdCB6AHvgeoB/oH0ggqCAgIYAhyCFAIqAi6CIwI8AjaCSwJOAkECVYJaAl0CUYJkgmeCbYJg==",
          "dtype": "i2"
         },
         "y": {
          "bdata": "zczMzPQo9EBmZmZmPiX0QAAAAABAb/RAAAAAAFiN9EAzMzMzi7X0QGZmZmYmJ/RAMzMzM+tE9EBmZmZmHvnzQGZmZma+RPRAMzMzM/MK9EAAAAAACF/0QGZmZma2c/RAAAAAANhf9EDNzMzMpDP0QAAAAABgWPRAAAAAAGBm80DNzMzMPN7yQJqZmZmBWPJAMzMzM4vE8kCamZmZgRzzQGZmZmZudvNAzczMzPRB80DNzMzMFLfyQAAAAABoO/JAmpmZmYGx8kCamZmZWe/zQGZmZmYe7fNAZmZmZk5V80DNzMzM7GzzQAAAAAB4IPRAmpmZmSFH9EBmZmZmdmT0QGZmZmbGrvRAMzMzMxvL9EBmZmZmTqj0QDMzMzMbc/RAmpmZmTln9ECamZmZ2Z70QJqZmZkRjfRAzczMzESm9EDNzMzMBOT0QM3MzMzchfRAzczMzNRb9EBmZmZmBln0QGZmZmYmhPRAmpmZmZGJ9EAzMzMzo330QGZmZmb+mfRAAAAAALia9EDNzMzMfK/0QGZmZmYOu/RAmpmZmSGm9EBmZmZmJpr0QJqZmZmhoPRAzczMzETO9EAAAAAAsMT0QJqZmZkhyPRAzczMzJyD9EDNzMzMXE31QGZmZmZePPVAzczMzMw99UBmZmZmlk/1QDMzMzMDiPVAMzMzM5Oq9kAAAAAAQND2QJqZmZkRn/ZAAAAAALjR9kBmZmZmToH2QM3MzMwUpvZAZmZmZkbK9kBmZmZmfsH2QJqZmZmJEvdAZmZmZg4a90BmZmZmPvH2QJqZmZk5AfdAzczMzBTt9kDNzMzMhO72QGZmZmZGrPZAAAAAAIjo9kCamZmZERX3QGZmZmamBPdAZmZmZhYl90AzMzMzMwL3QDMzMzODG/dAmpmZmfm29kBmZmZmXv32QDMzMzOrMvdAAAAAAMhk90AzMzMzC4T3QGZmZmaOi/dAAAAAAMiW90CamZmZAYf3QAAAAACoe/dAMzMzM2tq90AzMzMz+3b3QM3MzMwcavdAMzMzM4ti90BmZmZm5kz3QDMzMzPTSfdAzczMzCRP90DNzMzMXOv2QA==",
          "dtype": "f8"
         }
        },
        {
         "marker": {
          "color": "red",
          "size": 10,
          "symbol": "triangle-down"
         },
         "mode": "markers",
         "name": "Downtrend Entry",
         "type": "scatter",
         "x": {
          "bdata": "IAD4AIgBGAJ4AvACOAP4A1gEoATQBBgFkAU4BmgGKAdYB9AHGAhgCJAICAlQCeAJiAroCkgLqAtoDMgMQA2gDegNGA54DtgOUA+wDxAQiBDoEEgRkBEgEmgSmBLgEhATWBOIE7gTMBSoFDgVaBXIFfgVGBdgF8AX8Bc4GEAZuBnoGRgaYBogG1AbgBtAHHAcuBxgHcAdOB6wHnAf0B8AIJAg8CBQIbAhKCKIItAiACOQIyAkgCTIJPgkKCVwJbgl6CUwJmAmkCY=",
          "dtype": "i2"
         },
         "y": {
          "bdata": "MzMzM6Nm9EDNzMzMzJH0QAAAAAAQ0PRAmpmZmRHI9ECamZmZcUf1QGZmZmaGZfRAmpmZmVFs9EAzMzMz+1L0QJqZmZmJnPRAmpmZmZlp9EAAAAAAQJz0QAAAAABgi/RAZmZmZs5t9ECamZmZ6Wz0QAAAAACoZPRAAAAAALho80CamZmZwVrzQJqZmZnx0fJAMzMzM4su80BmZmZmPn/zQDMzMzNTk/NAMzMzM/OS80AAAAAAwMPyQAAAAABw+PJAmpmZmWlY9EAAAAAA2A/0QAAAAAC49PNAzczMzNR980AzMzMzmyH0QGZmZma2c/RAZmZmZr5r9EBmZmZmVs70QM3MzMwU1/RAMzMzM6Po9ECamZmZoa30QJqZmZlZp/RAMzMzM8Ov9EDNzMzM7Lf0QAAAAAAQxvRAMzMzM2Pz9EAAAAAAaAT1QAAAAACwi/RAzczMzEx19EBmZmZmrsD0QJqZmZlpnvRAAAAAAEiV9EAAAAAAcLf0QGZmZmYuovRAmpmZmbHJ9EAAAAAAeL/0QDMzMzPbvfRAMzMzM7On9EBmZmZmVqv0QAAAAAB42fRAMzMzM9vY9EAAAAAAkNT0QJqZmZlh0PRAmpmZmWlO9UDNzMzM5F/1QAAAAABggfVAMzMzMztQ9UCamZmZ6ZT1QJqZmZkR3PZAZmZmZub59kAAAAAAGO72QAAAAAC44/ZAMzMzM5vX9kAzMzMzW8L2QGZmZmYu2vZAAAAAAMjo9kBmZmZmLjv3QGZmZmaOP/dAzczMzCwz90AzMzMzwwn3QAAAAACQGfdAZmZmZkb99kAzMzMzYw73QJqZmZkhRfdAMzMzM2sk90BmZmZmHjL3QAAAAADYOfdAZmZmZoZE90DNzMzMpDP3QDMzMzN7PPdAMzMzM8sN90AAAAAA6Dr3QGZmZmaWe/dAAAAAAHCl90AzMzMzo733QGZmZmYe2/dAAAAAAIin90AAAAAA8If3QGZmZmYWf/dAmpmZmSmH90AAAAAAoIb3QM3MzMyEfvdAmpmZmdl490AAAAAAOE/3QAAAAABIUvdAmpmZmVla90A=",
          "dtype": "f8"
         }
        }
       ],
       "layout": {
        "height": 600,
        "legend": {
         "x": 0,
         "y": 1
        },
        "template": {
         "data": {
          "bar": [
           {
            "error_x": {
             "color": "#2a3f5f"
            },
            "error_y": {
             "color": "#2a3f5f"
            },
            "marker": {
             "line": {
              "color": "#E5ECF6",
              "width": 0.5
             },
             "pattern": {
              "fillmode": "overlay",
              "size": 10,
              "solidity": 0.2
             }
            },
            "type": "bar"
           }
          ],
          "barpolar": [
           {
            "marker": {
             "line": {
              "color": "#E5ECF6",
              "width": 0.5
             },
             "pattern": {
              "fillmode": "overlay",
              "size": 10,
              "solidity": 0.2
             }
            },
            "type": "barpolar"
           }
          ],
          "carpet": [
           {
            "aaxis": {
             "endlinecolor": "#2a3f5f",
             "gridcolor": "white",
             "linecolor": "white",
             "minorgridcolor": "white",
             "startlinecolor": "#2a3f5f"
            },
            "baxis": {
             "endlinecolor": "#2a3f5f",
             "gridcolor": "white",
             "linecolor": "white",
             "minorgridcolor": "white",
             "startlinecolor": "#2a3f5f"
            },
            "type": "carpet"
           }
          ],
          "choropleth": [
           {
            "colorbar": {
             "outlinewidth": 0,
             "ticks": ""
            },
            "type": "choropleth"
           }
          ],
          "contour": [
           {
            "colorbar": {
             "outlinewidth": 0,
             "ticks": ""
            },
            "colorscale": [
             [
              0,
              "#0d0887"
             ],
             [
              0.1111111111111111,
              "#46039f"
             ],
             [
              0.2222222222222222,
              "#7201a8"
             ],
             [
              0.3333333333333333,
              "#9c179e"
             ],
             [
              0.4444444444444444,
              "#bd3786"
             ],
             [
              0.5555555555555556,
              "#d8576b"
             ],
             [
              0.6666666666666666,
              "#ed7953"
             ],
             [
              0.7777777777777778,
              "#fb9f3a"
             ],
             [
              0.8888888888888888,
              "#fdca26"
             ],
             [
              1,
              "#f0f921"
             ]
            ],
            "type": "contour"
           }
          ],
          "contourcarpet": [
           {
            "colorbar": {
             "outlinewidth": 0,
             "ticks": ""
            },
            "type": "contourcarpet"
           }
          ],
          "heatmap": [
           {
            "colorbar": {
             "outlinewidth": 0,
             "ticks": ""
            },
            "colorscale": [
             [
              0,
              "#0d0887"
             ],
             [
              0.1111111111111111,
              "#46039f"
             ],
             [
              0.2222222222222222,
              "#7201a8"
             ],
             [
              0.3333333333333333,
              "#9c179e"
             ],
             [
              0.4444444444444444,
              "#bd3786"
             ],
             [
              0.5555555555555556,
              "#d8576b"
             ],
             [
              0.6666666666666666,
              "#ed7953"
             ],
             [
              0.7777777777777778,
              "#fb9f3a"
             ],
             [
              0.8888888888888888,
              "#fdca26"
             ],
             [
              1,
              "#f0f921"
             ]
            ],
            "type": "heatmap"
           }
          ],
          "histogram": [
           {
            "marker": {
             "pattern": {
              "fillmode": "overlay",
              "size": 10,
              "solidity": 0.2
             }
            },
            "type": "histogram"
           }
          ],
          "histogram2d": [
           {
            "colorbar": {
             "outlinewidth": 0,
             "ticks": ""
            },
            "colorscale": [
             [
              0,
              "#0d0887"
             ],
             [
              0.1111111111111111,
              "#46039f"
             ],
             [
              0.2222222222222222,
              "#7201a8"
             ],
             [
              0.3333333333333333,
              "#9c179e"
             ],
             [
              0.4444444444444444,
              "#bd3786"
             ],
             [
              0.5555555555555556,
              "#d8576b"
             ],
             [
              0.6666666666666666,
              "#ed7953"
             ],
             [
              0.7777777777777778,
              "#fb9f3a"
             ],
             [
              0.8888888888888888,
              "#fdca26"
             ],
             [
              1,
              "#f0f921"
             ]
            ],
            "type": "histogram2d"
           }
          ],
          "histogram2dcontour": [
           {
            "colorbar": {
             "outlinewidth": 0,
             "ticks": ""
            },
            "colorscale": [
             [
              0,
              "#0d0887"
             ],
             [
              0.1111111111111111,
              "#46039f"
             ],
             [
              0.2222222222222222,
              "#7201a8"
             ],
             [
              0.3333333333333333,
              "#9c179e"
             ],
             [
              0.4444444444444444,
              "#bd3786"
             ],
             [
              0.5555555555555556,
              "#d8576b"
             ],
             [
              0.6666666666666666,
              "#ed7953"
             ],
             [
              0.7777777777777778,
              "#fb9f3a"
             ],
             [
              0.8888888888888888,
              "#fdca26"
             ],
             [
              1,
              "#f0f921"
             ]
            ],
            "type": "histogram2dcontour"
           }
          ],
          "mesh3d": [
           {
            "colorbar": {
             "outlinewidth": 0,
             "ticks": ""
            },
            "type": "mesh3d"
           }
          ],
          "parcoords": [
           {
            "line": {
             "colorbar": {
              "outlinewidth": 0,
              "ticks": ""
             }
            },
            "type": "parcoords"
           }
          ],
          "pie": [
           {
            "automargin": true,
            "type": "pie"
           }
          ],
          "scatter": [
           {
            "fillpattern": {
             "fillmode": "overlay",
             "size": 10,
             "solidity": 0.2
            },
            "type": "scatter"
           }
          ],
          "scatter3d": [
           {
            "line": {
             "colorbar": {
              "outlinewidth": 0,
              "ticks": ""
             }
            },
            "marker": {
             "colorbar": {
              "outlinewidth": 0,
              "ticks": ""
             }
            },
            "type": "scatter3d"
           }
          ],
          "scattercarpet": [
           {
            "marker": {
             "colorbar": {
              "outlinewidth": 0,
              "ticks": ""
             }
            },
            "type": "scattercarpet"
           }
          ],
          "scattergeo": [
           {
            "marker": {
             "colorbar": {
              "outlinewidth": 0,
              "ticks": ""
             }
            },
            "type": "scattergeo"
           }
          ],
          "scattergl": [
           {
            "marker": {
             "colorbar": {
              "outlinewidth": 0,
              "ticks": ""
             }
            },
            "type": "scattergl"
           }
          ],
          "scattermap": [
           {
            "marker": {
             "colorbar": {
              "outlinewidth": 0,
              "ticks": ""
             }
            },
            "type": "scattermap"
           }
          ],
          "scattermapbox": [
           {
            "marker": {
             "colorbar": {
              "outlinewidth": 0,
              "ticks": ""
             }
            },
            "type": "scattermapbox"
           }
          ],
          "scatterpolar": [
           {
            "marker": {
             "colorbar": {
              "outlinewidth": 0,
              "ticks": ""
             }
            },
            "type": "scatterpolar"
           }
          ],
          "scatterpolargl": [
           {
            "marker": {
             "colorbar": {
              "outlinewidth": 0,
              "ticks": ""
             }
            },
            "type": "scatterpolargl"
           }
          ],
          "scatterternary": [
           {
            "marker": {
             "colorbar": {
              "outlinewidth": 0,
              "ticks": ""
             }
            },
            "type": "scatterternary"
           }
          ],
          "surface": [
           {
            "colorbar": {
             "outlinewidth": 0,
             "ticks": ""
            },
            "colorscale": [
             [
              0,
              "#0d0887"
             ],
             [
              0.1111111111111111,
              "#46039f"
             ],
             [
              0.2222222222222222,
              "#7201a8"
             ],
             [
              0.3333333333333333,
              "#9c179e"
             ],
             [
              0.4444444444444444,
              "#bd3786"
             ],
             [
              0.5555555555555556,
              "#d8576b"
             ],
             [
              0.6666666666666666,
              "#ed7953"
             ],
             [
              0.7777777777777778,
              "#fb9f3a"
             ],
             [
              0.8888888888888888,
              "#fdca26"
             ],
             [
              1,
              "#f0f921"
             ]
            ],
            "type": "surface"
           }
          ],
          "table": [
           {
            "cells": {
             "fill": {
              "color": "#EBF0F8"
             },
             "line": {
              "color": "white"
             }
            },
            "header": {
             "fill": {
              "color": "#C8D4E3"
             },
             "line": {
              "color": "white"
             }
            },
            "type": "table"
           }
          ]
         },
         "layout": {
          "annotationdefaults": {
           "arrowcolor": "#2a3f5f",
           "arrowhead": 0,
           "arrowwidth": 1
          },
          "autotypenumbers": "strict",
          "coloraxis": {
           "colorbar": {
            "outlinewidth": 0,
            "ticks": ""
           }
          },
          "colorscale": {
           "diverging": [
            [
             0,
             "#8e0152"
            ],
            [
             0.1,
             "#c51b7d"
            ],
            [
             0.2,
             "#de77ae"
            ],
            [
             0.3,
             "#f1b6da"
            ],
            [
             0.4,
             "#fde0ef"
            ],
            [
             0.5,
             "#f7f7f7"
            ],
            [
             0.6,
             "#e6f5d0"
            ],
            [
             0.7,
             "#b8e186"
            ],
            [
             0.8,
             "#7fbc41"
            ],
            [
             0.9,
             "#4d9221"
            ],
            [
             1,
             "#276419"
            ]
           ],
           "sequential": [
            [
             0,
             "#0d0887"
            ],
            [
             0.1111111111111111,
             "#46039f"
            ],
            [
             0.2222222222222222,
             "#7201a8"
            ],
            [
             0.3333333333333333,
             "#9c179e"
            ],
            [
             0.4444444444444444,
             "#bd3786"
            ],
            [
             0.5555555555555556,
             "#d8576b"
            ],
            [
             0.6666666666666666,
             "#ed7953"
            ],
            [
             0.7777777777777778,
             "#fb9f3a"
            ],
            [
             0.8888888888888888,
             "#fdca26"
            ],
            [
             1,
             "#f0f921"
            ]
           ],
           "sequentialminus": [
            [
             0,
             "#0d0887"
            ],
            [
             0.1111111111111111,
             "#46039f"
            ],
            [
             0.2222222222222222,
             "#7201a8"
            ],
            [
             0.3333333333333333,
             "#9c179e"
            ],
            [
             0.4444444444444444,
             "#bd3786"
            ],
            [
             0.5555555555555556,
             "#d8576b"
            ],
            [
             0.6666666666666666,
             "#ed7953"
            ],
            [
             0.7777777777777778,
             "#fb9f3a"
            ],
            [
             0.8888888888888888,
             "#fdca26"
            ],
            [
             1,
             "#f0f921"
            ]
           ]
          },
          "colorway": [
           "#636efa",
           "#EF553B",
           "#00cc96",
           "#ab63fa",
           "#FFA15A",
           "#19d3f3",
           "#FF6692",
           "#B6E880",
           "#FF97FF",
           "#FECB52"
          ],
          "font": {
           "color": "#2a3f5f"
          },
          "geo": {
           "bgcolor": "white",
           "lakecolor": "white",
           "landcolor": "#E5ECF6",
           "showlakes": true,
           "showland": true,
           "subunitcolor": "white"
          },
          "hoverlabel": {
           "align": "left"
          },
          "hovermode": "closest",
          "mapbox": {
           "style": "light"
          },
          "paper_bgcolor": "white",
          "plot_bgcolor": "#E5ECF6",
          "polar": {
           "angularaxis": {
            "gridcolor": "white",
            "linecolor": "white",
            "ticks": ""
           },
           "bgcolor": "#E5ECF6",
           "radialaxis": {
            "gridcolor": "white",
            "linecolor": "white",
            "ticks": ""
           }
          },
          "scene": {
           "xaxis": {
            "backgroundcolor": "#E5ECF6",
            "gridcolor": "white",
            "gridwidth": 2,
            "linecolor": "white",
            "showbackground": true,
            "ticks": "",
            "zerolinecolor": "white"
           },
           "yaxis": {
            "backgroundcolor": "#E5ECF6",
            "gridcolor": "white",
            "gridwidth": 2,
            "linecolor": "white",
            "showbackground": true,
            "ticks": "",
            "zerolinecolor": "white"
           },
           "zaxis": {
            "backgroundcolor": "#E5ECF6",
            "gridcolor": "white",
            "gridwidth": 2,
            "linecolor": "white",
            "showbackground": true,
            "ticks": "",
            "zerolinecolor": "white"
           }
          },
          "shapedefaults": {
           "line": {
            "color": "#2a3f5f"
           }
          },
          "ternary": {
           "aaxis": {
            "gridcolor": "white",
            "linecolor": "white",
            "ticks": ""
           },
           "baxis": {
            "gridcolor": "white",
            "linecolor": "white",
            "ticks": ""
           },
           "bgcolor": "#E5ECF6",
           "caxis": {
            "gridcolor": "white",
            "linecolor": "white",
            "ticks": ""
           }
          },
          "title": {
           "x": 0.05
          },
          "xaxis": {
           "automargin": true,
           "gridcolor": "white",
           "linecolor": "white",
           "ticks": "",
           "title": {
            "standoff": 15
           },
           "zerolinecolor": "white",
           "zerolinewidth": 2
          },
          "yaxis": {
           "automargin": true,
           "gridcolor": "white",
           "linecolor": "white",
           "ticks": "",
           "title": {
            "standoff": 15
           },
           "zerolinecolor": "white",
           "zerolinewidth": 2
          }
         }
        },
        "title": {
         "text": "Non-Overlapping 2-Hour Slope-Based Labels"
        },
        "xaxis": {
         "title": {
          "text": "Time"
         }
        },
        "yaxis": {
         "title": {
          "text": "Price"
         }
        }
       }
      }
     },
     "metadata": {},
     "output_type": "display_data"
    }
   ],
   "source": [
    "# Extract labeled entries for plotting\n",
    "up = df[df['label_filtered'] == 1]\n",
    "down = df[df['label_filtered'] == -1]\n",
    "\n",
    "# Plot interactively\n",
    "fig = go.Figure()\n",
    "\n",
    "# Price line\n",
    "fig.add_trace(go.Scatter(\n",
    "    x=df.index, y=df['close'],\n",
    "    mode='lines', name='Close Price', line=dict(color='black')\n",
    "))\n",
    "\n",
    "# Uptrend markers\n",
    "fig.add_trace(go.Scatter(\n",
    "    x=up.index, y=up['close'],\n",
    "    mode='markers', name='Uptrend Entry',\n",
    "    marker=dict(symbol='triangle-up', size=10, color='green')\n",
    "))\n",
    "\n",
    "# Downtrend markers\n",
    "fig.add_trace(go.Scatter(\n",
    "    x=down.index, y=down['close'],\n",
    "    mode='markers', name='Downtrend Entry',\n",
    "    marker=dict(symbol='triangle-down', size=10, color='red')\n",
    "))\n",
    "\n",
    "fig.update_layout(\n",
    "    title=\"Non-Overlapping 2-Hour Slope-Based Labels\",\n",
    "    xaxis_title=\"Time\",\n",
    "    yaxis_title=\"Price\",\n",
    "    height=600,\n",
    "    legend=dict(x=0, y=1)\n",
    ")\n",
    "\n",
    "fig.show()"
   ]
  },
  {
   "cell_type": "code",
   "execution_count": null,
   "id": "aca6fee7",
   "metadata": {},
   "outputs": [],
   "source": []
  }
 ],
 "metadata": {
  "kernelspec": {
   "display_name": "venv",
   "language": "python",
   "name": "python3"
  },
  "language_info": {
   "codemirror_mode": {
    "name": "ipython",
    "version": 3
   },
   "file_extension": ".py",
   "mimetype": "text/x-python",
   "name": "python",
   "nbconvert_exporter": "python",
   "pygments_lexer": "ipython3",
   "version": "3.13.3"
  }
 },
 "nbformat": 4,
 "nbformat_minor": 5
}
